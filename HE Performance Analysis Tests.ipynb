{
 "cells": [
  {
   "cell_type": "raw",
   "id": "8126956d-3bce-4768-93e2-6d723a5ad493",
   "metadata": {},
   "source": [
    "Homomorphic Encryption Analysis "
   ]
  },
  {
   "cell_type": "markdown",
   "id": "872ac848-535c-4c43-acd9-fb34bd2270ea",
   "metadata": {},
   "source": [
    "***"
   ]
  },
  {
   "cell_type": "code",
   "execution_count": 86,
   "id": "a1fb0f65-765f-445e-90cb-19055bb09b70",
   "metadata": {},
   "outputs": [],
   "source": [
    "from phe import paillier\n",
    "import time\n",
    "import pandas as pd"
   ]
  },
  {
   "cell_type": "markdown",
   "id": "94b887c6-f2da-4f2b-bfc7-fb0a1c025cb3",
   "metadata": {},
   "source": [
    "***"
   ]
  },
  {
   "cell_type": "raw",
   "id": "5325edae-0801-40ba-b1da-2c5aca53ca43",
   "metadata": {},
   "source": [
    "HE Functionality"
   ]
  },
  {
   "cell_type": "code",
   "execution_count": 31,
   "id": "7535f0e2-c1ba-4e64-94c8-6e79a8d1c320",
   "metadata": {},
   "outputs": [],
   "source": [
    "# Generate public and private keys\n",
    "def generate_keys():\n",
    "    public_key, private_key = paillier.generate_paillier_keypair()\n",
    "    return public_key, private_key\n",
    "\n",
    "# Encode a string into a unique integer\n",
    "def encode_string(s, encoding_dict):\n",
    "    if s not in encoding_dict:\n",
    "        encoding_dict[s] = len(encoding_dict) + 1\n",
    "    return encoding_dict[s]\n",
    "\n",
    "# Encrypt a value\n",
    "def encrypt_value(value, public_key):\n",
    "    return public_key.encrypt(value)\n",
    "\n",
    "# Decrypt a value\n",
    "def decrypt_value(encrypted_value, private_key):\n",
    "    return private_key.decrypt(encrypted_value)"
   ]
  },
  {
   "cell_type": "code",
   "execution_count": 37,
   "id": "0813d6b2-e438-4b3c-834e-f05dcd5a317f",
   "metadata": {},
   "outputs": [],
   "source": [
    "# Encrypt and search in dataset\n",
    "def HE(dataset, query_value):\n",
    "    # Record the start time\n",
    "    start_time = time.time()\n",
    "    \n",
    "    # Generate keys\n",
    "    public_key, private_key = generate_keys()\n",
    "    \n",
    "    # Encoding dictionary\n",
    "    encoding_dict = {}\n",
    "    \n",
    "    # Encode and encrypt the dataset\n",
    "    encoded_dataset = [encode_string(value, encoding_dict) for value in dataset]\n",
    "    encrypted_dataset = [encrypt_value(value, public_key) for value in encoded_dataset]\n",
    "        \n",
    "    # Encode and encrypt the query value\n",
    "    encoded_query = encode_string(query_value, encoding_dict)\n",
    "    encrypted_query = encrypt_value(encoded_query, public_key)\n",
    "    \n",
    "    # Searching through encrypted values\n",
    "    search_result = any(decrypt_value(encrypted_value, private_key) == encoded_query for encrypted_value in encrypted_dataset)\n",
    "    \n",
    "    # Record the end time\n",
    "    end_time = time.time()\n",
    "    \n",
    "    # Calculate the time taken\n",
    "    time_taken = end_time - start_time\n",
    "    \n",
    "    print(f\"Search result for query value '{query_value}': {search_result}\")\n",
    "    print(f\"Time taken to run the cell: {time_taken} seconds\")"
   ]
  },
  {
   "cell_type": "code",
   "execution_count": 39,
   "id": "dc061191-e97b-4d24-834e-d4d59b596d76",
   "metadata": {},
   "outputs": [
    {
     "name": "stdout",
     "output_type": "stream",
     "text": [
      "Search result for query value '10': True\n",
      "Time taken to run the cell: 3.6481218338012695 seconds\n"
     ]
    }
   ],
   "source": [
    "#Testing\n",
    "dataset = [1, 2, 3, 4, '5', '6', '7', '8', '9', '10']\n",
    "query_value = '10'\n",
    "HE(dataset, query_value)"
   ]
  },
  {
   "cell_type": "markdown",
   "id": "360e9fe0-6b19-4961-883f-8915009b0b27",
   "metadata": {},
   "source": [
    "***"
   ]
  },
  {
   "cell_type": "raw",
   "id": "1ee98a16-fb0b-42b2-b274-4ce0f42b8092",
   "metadata": {},
   "source": [
    "Dataset functionality"
   ]
  },
  {
   "cell_type": "code",
   "execution_count": 69,
   "id": "60da2e3c-aa77-4e28-9962-4aa53657b7ce",
   "metadata": {},
   "outputs": [],
   "source": [
    "def extract_column_to_list(csv_filename, column_name, max_rows):\n",
    "    try:\n",
    "        # Read the CSV file with a limit on the number of rows\n",
    "        df = pd.read_csv(csv_filename, nrows=max_rows)\n",
    "        \n",
    "        # Check if the column exists in the DataFrame\n",
    "        if column_name not in df.columns:\n",
    "            raise ValueError(f\"Column '{column_name}' does not exist in the CSV file.\")\n",
    "\n",
    "        # Extract the column and convert it to a list\n",
    "        column_list = df[column_name].tolist()\n",
    "        \n",
    "        return column_list\n",
    "    \n",
    "    except FileNotFoundError:\n",
    "        print(f\"File '{csv_filename}' not found.\")\n",
    "        return None\n",
    "    except ValueError as e:\n",
    "        print(e)\n",
    "        return None"
   ]
  },
  {
   "cell_type": "markdown",
   "id": "c0a6a0bd-5847-4804-a943-c33cbe4f41a6",
   "metadata": {},
   "source": [
    "***"
   ]
  },
  {
   "cell_type": "code",
   "execution_count": 110,
   "id": "32d77777-617b-49b0-a941-aef92cf9c287",
   "metadata": {},
   "outputs": [],
   "source": [
    "#Importing the data\n",
    "\n",
    "#dataset from:\n",
    "#https://www.kaggle.com/code/imranp/starter-synthetic-financial-datasets-cd6449a6-6\n",
    "\n",
    "csv_filename = 'SynFinData1.csv'  \n",
    "column_name = 'nameDest'  "
   ]
  },
  {
   "cell_type": "markdown",
   "id": "a82db9a3-4d7c-4f2e-a210-43fbf369ed46",
   "metadata": {},
   "source": [
    "***"
   ]
  },
  {
   "cell_type": "raw",
   "id": "6bbd900d-5399-40de-94ae-dd8269f6a7ad",
   "metadata": {},
   "source": [
    "Creating different size datasets from above dataset for testing"
   ]
  },
  {
   "cell_type": "code",
   "execution_count": 113,
   "id": "2c5b9584-1899-4c58-ad74-32acfc8d1c8c",
   "metadata": {},
   "outputs": [],
   "source": [
    "max_rows = 10 \n",
    "\n",
    "dataset10 = extract_column_to_list(csv_filename, column_name, max_rows)\n",
    "print(dataset10)"
   ]
  },
  {
   "cell_type": "code",
   "execution_count": 114,
   "id": "57a71335-ecc0-42a5-90f8-ce0f68c6d3b0",
   "metadata": {},
   "outputs": [],
   "source": [
    "max_rows = 50 \n",
    "\n",
    "dataset50 = extract_column_to_list(csv_filename, column_name, max_rows)\n",
    "#print(dataset50)"
   ]
  },
  {
   "cell_type": "code",
   "execution_count": 115,
   "id": "1b229105-5b69-49b3-be26-f26147015b23",
   "metadata": {},
   "outputs": [],
   "source": [
    "max_rows = 100\n",
    "\n",
    "dataset100 = extract_column_to_list(csv_filename, column_name, max_rows)\n",
    "#print(dataset100)"
   ]
  },
  {
   "cell_type": "code",
   "execution_count": 116,
   "id": "3ac50e57-0b32-44c5-bfed-a92c4515cf1b",
   "metadata": {},
   "outputs": [],
   "source": [
    "max_rows = 500\n",
    "\n",
    "dataset500 = extract_column_to_list(csv_filename, column_name, max_rows)\n",
    "#print(dataset500)"
   ]
  },
  {
   "cell_type": "code",
   "execution_count": 117,
   "id": "cd442eec-9f9a-4a61-a7ce-ec91d7e3878c",
   "metadata": {},
   "outputs": [],
   "source": [
    "max_rows = 1000\n",
    "\n",
    "dataset1000 = extract_column_to_list(csv_filename, column_name, max_rows)\n",
    "#print(dataset1000)"
   ]
  },
  {
   "cell_type": "code",
   "execution_count": 118,
   "id": "c25fc480-10b7-4528-8532-75d2fff60f82",
   "metadata": {},
   "outputs": [],
   "source": [
    "max_rows = 5000\n",
    "\n",
    "dataset5000 = extract_column_to_list(csv_filename, column_name, max_rows)\n",
    "#print(dataset5000)"
   ]
  },
  {
   "cell_type": "code",
   "execution_count": 119,
   "id": "f2b6dd3b-0c7c-4496-b28d-4476b409e742",
   "metadata": {},
   "outputs": [],
   "source": [
    "max_rows = 10000\n",
    "\n",
    "dataset10000 = extract_column_to_list(csv_filename, column_name, max_rows)\n",
    "#print(dataset10000)"
   ]
  },
  {
   "cell_type": "code",
   "execution_count": 120,
   "id": "c721f8df-8d92-465c-89ef-72b7c05068a1",
   "metadata": {},
   "outputs": [],
   "source": [
    "max_rows = 50000\n",
    "\n",
    "dataset50000 = extract_column_to_list(csv_filename, column_name, max_rows)\n",
    "#print(dataset50000)"
   ]
  },
  {
   "cell_type": "code",
   "execution_count": 121,
   "id": "ea12c260-b8f6-4407-a06a-68d8a6488d11",
   "metadata": {},
   "outputs": [],
   "source": [
    "max_rows = 100000\n",
    "\n",
    "dataset100000 = extract_column_to_list(csv_filename, column_name, max_rows)\n",
    "#print(dataset100000)"
   ]
  },
  {
   "cell_type": "markdown",
   "id": "1c98715c-314a-4c24-adce-e25a8847e801",
   "metadata": {},
   "source": [
    "***"
   ]
  },
  {
   "cell_type": "raw",
   "id": "7867f0ca-0194-43a0-a77f-43c796fa7d59",
   "metadata": {},
   "source": [
    "Running the tests"
   ]
  },
  {
   "cell_type": "code",
   "execution_count": 138,
   "id": "b8e3ca39-2595-4d35-be2d-823682be00d1",
   "metadata": {},
   "outputs": [
    {
     "name": "stdout",
     "output_type": "stream",
     "text": [
      "Search result for query value 'M1979787155': True\n",
      "Time taken to run the cell: 3.5409061908721924 seconds\n"
     ]
    }
   ],
   "source": [
    "#String Test 10\n",
    "query_value = 'M1979787155'\n",
    "HE(dataset10, query_value)"
   ]
  },
  {
   "cell_type": "code",
   "execution_count": 123,
   "id": "2248e6c2-911e-4657-ba7a-d08d9dc2b095",
   "metadata": {},
   "outputs": [
    {
     "name": "stdout",
     "output_type": "stream",
     "text": [
      "Search result for query value 'M1979787155': True\n",
      "Time taken to run the cell: 12.957278966903687 seconds\n"
     ]
    }
   ],
   "source": [
    "#String Test 50\n",
    "query_value = 'M1979787155'\n",
    "HE(dataset50, query_value)"
   ]
  },
  {
   "cell_type": "code",
   "execution_count": 124,
   "id": "c632fb85-d4af-497c-b0c4-41b6f22c5dba",
   "metadata": {},
   "outputs": [
    {
     "name": "stdout",
     "output_type": "stream",
     "text": [
      "Search result for query value 'M1979787155': True\n",
      "Time taken to run the cell: 22.82736086845398 seconds\n"
     ]
    }
   ],
   "source": [
    "#String Test 100\n",
    "query_value = 'M1979787155'\n",
    "HE(dataset100, query_value)"
   ]
  },
  {
   "cell_type": "code",
   "execution_count": 126,
   "id": "3e9e5993-ad67-4d33-b242-0207f40a3d60",
   "metadata": {},
   "outputs": [
    {
     "name": "stdout",
     "output_type": "stream",
     "text": [
      "Search result for query value 'M1979787155': True\n",
      "Time taken to run the cell: 108.46706032752991 seconds\n"
     ]
    }
   ],
   "source": [
    "#String Test 500\n",
    "query_value = 'M1979787155'\n",
    "HE(dataset500, query_value)"
   ]
  },
  {
   "cell_type": "code",
   "execution_count": 127,
   "id": "f97e11d4-6034-403f-9b78-a02279a4b435",
   "metadata": {},
   "outputs": [
    {
     "name": "stdout",
     "output_type": "stream",
     "text": [
      "Search result for query value 'M1979787155': True\n",
      "Time taken to run the cell: 223.77642345428467 seconds\n"
     ]
    }
   ],
   "source": [
    "#String Test 1,000\n",
    "query_value = 'M1979787155'\n",
    "HE(dataset1000, query_value)"
   ]
  },
  {
   "cell_type": "code",
   "execution_count": 128,
   "id": "38e829c4-fe79-4054-b336-7aa431920e6b",
   "metadata": {},
   "outputs": [
    {
     "name": "stdout",
     "output_type": "stream",
     "text": [
      "Search result for query value 'M1979787155': True\n",
      "Time taken to run the cell: 1049.3617677688599 seconds\n"
     ]
    }
   ],
   "source": [
    "#String Test 5,000\n",
    "query_value = 'M1979787155'\n",
    "HE(dataset5000, query_value)"
   ]
  },
  {
   "cell_type": "code",
   "execution_count": 129,
   "id": "3dae3254-6de7-40dd-9991-e8c97374893f",
   "metadata": {},
   "outputs": [
    {
     "name": "stdout",
     "output_type": "stream",
     "text": [
      "Search result for query value 'M1979787155': True\n",
      "Time taken to run the cell: 2081.393767118454 seconds\n"
     ]
    }
   ],
   "source": [
    "#String Test 10,000\n",
    "query_value = 'M1979787155'\n",
    "HE(dataset10000, query_value)"
   ]
  },
  {
   "cell_type": "code",
   "execution_count": 130,
   "id": "dd2c0470-ca26-4b80-857f-bdaa3ccf73b3",
   "metadata": {},
   "outputs": [
    {
     "name": "stdout",
     "output_type": "stream",
     "text": [
      "Search result for query value 'M1979787155': True\n",
      "Time taken to run the cell: 10439.68198800087 seconds\n"
     ]
    }
   ],
   "source": [
    "#String Test 50,000\n",
    "query_value = 'M1979787155'\n",
    "HE(dataset50000, query_value)"
   ]
  },
  {
   "cell_type": "code",
   "execution_count": 132,
   "id": "cee2c3c2-01da-4b50-bbdb-2ed5f536caf5",
   "metadata": {},
   "outputs": [
    {
     "name": "stdout",
     "output_type": "stream",
     "text": [
      "Search result for query value 'M1979787155': True\n",
      "Time taken to run the cell: 20963.100166082382 seconds\n"
     ]
    }
   ],
   "source": [
    "#String Test 100,000\n",
    "query_value = 'M1979787155'\n",
    "HE(dataset100000, query_value)"
   ]
  },
  {
   "cell_type": "markdown",
   "id": "683015e8-e2d9-44e3-95ad-80ff4854aaff",
   "metadata": {},
   "source": [
    "***"
   ]
  },
  {
   "cell_type": "raw",
   "id": "41940181-6e19-4e53-9440-4e0859dea7bb",
   "metadata": {},
   "source": [
    "Testing Variations "
   ]
  },
  {
   "cell_type": "code",
   "execution_count": 134,
   "id": "d6d88790-f749-4d6e-8ab3-91f9071e7bed",
   "metadata": {},
   "outputs": [],
   "source": [
    "#Individual tests were left above so some results could be shown in notebook.\n",
    "#For the rest of the tests, just going to test, record and change variables to keep things compact."
   ]
  },
  {
   "cell_type": "code",
   "execution_count": 147,
   "id": "90413527-cf40-4d9d-bb62-b3fb239237bc",
   "metadata": {},
   "outputs": [],
   "source": [
    "column_name2 = 'oldbalanceDest' "
   ]
  },
  {
   "cell_type": "code",
   "execution_count": 149,
   "id": "9aaf161d-ec12-4841-9253-94f7864edb93",
   "metadata": {},
   "outputs": [
    {
     "name": "stdout",
     "output_type": "stream",
     "text": [
      "Search result for query value '21182': True\n",
      "Time taken to run the cell: 3.833334445953369 seconds\n"
     ]
    }
   ],
   "source": [
    "max_rows = 10 \n",
    "intdataset10 = extract_column_to_list(csv_filename, column_name2, max_rows)\n",
    "#print(intdataset10)\n",
    "\n",
    "#Int Test 10\n",
    "query_value = 21182\n",
    "HE(intdataset10, query_value)"
   ]
  },
  {
   "cell_type": "code",
   "execution_count": null,
   "id": "5ac360e8-a60e-4c10-9790-df31fcedb396",
   "metadata": {},
   "outputs": [],
   "source": []
  }
 ],
 "metadata": {
  "kernelspec": {
   "display_name": "Python 3 (ipykernel)",
   "language": "python",
   "name": "python3"
  },
  "language_info": {
   "codemirror_mode": {
    "name": "ipython",
    "version": 3
   },
   "file_extension": ".py",
   "mimetype": "text/x-python",
   "name": "python",
   "nbconvert_exporter": "python",
   "pygments_lexer": "ipython3",
   "version": "3.12.4"
  }
 },
 "nbformat": 4,
 "nbformat_minor": 5
}
